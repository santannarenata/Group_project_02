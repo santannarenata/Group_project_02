{
 "cells": [
  {
   "cell_type": "code",
   "execution_count": null,
   "metadata": {},
   "outputs": [],
   "source": [
    "#import packages\n",
    "import pandas as pd\n",
    "import csv\n",
    "import os\n",
    "import numpy as np\n",
    "from sqlalchemy import create_engine"
   ]
  },
  {
   "cell_type": "code",
   "execution_count": null,
   "metadata": {
    "scrolled": true
   },
   "outputs": [],
   "source": [
    "#import tsv file into df \n",
    "kids_df = pd.read_csv('kids_teen.tsv',delimiter='\\t',encoding='utf-8')\n",
    "\n",
    "kids_df.describe()\n",
    "kids_df.head()\n",
    "\n"
   ]
  },
  {
   "cell_type": "code",
   "execution_count": null,
   "metadata": {},
   "outputs": [],
   "source": [
    "#import second tsv file into df \n",
    "master_df = pd.read_csv('master_season1-35.tsv',delimiter='\\t',encoding='utf-8')\n",
    "\n",
    "master_df.describe()\n",
    "master_df.head()"
   ]
  },
  {
   "cell_type": "code",
   "execution_count": null,
   "metadata": {},
   "outputs": [],
   "source": [
    "#exploratory#\n",
    "print(master_df['category'].value_counts())\n",
    "print(master_df['air_date'].value_counts())"
   ]
  },
  {
   "cell_type": "code",
   "execution_count": null,
   "metadata": {},
   "outputs": [],
   "source": [
    "#exploratory#\n",
    "print(kids_df['category'].value_counts())\n",
    "print(kids_df['air_date'].value_counts())"
   ]
  },
  {
   "cell_type": "code",
   "execution_count": null,
   "metadata": {},
   "outputs": [],
   "source": [
    "#Add binary column for kids_jeopardy delegation#\n",
    "kids_df['kids_jeopardy'] = 0\n",
    "master_df['kids_jeopardy'] = 1"
   ]
  },
  {
   "cell_type": "code",
   "execution_count": null,
   "metadata": {},
   "outputs": [],
   "source": [
    "# append two data sets into one file #\n",
    "jeopardy_df = kids_df.append(master_df) \n",
    "jeopardy_df.head()"
   ]
  },
  {
   "cell_type": "code",
   "execution_count": null,
   "metadata": {},
   "outputs": [],
   "source": [
    "#drop irrelevant columns in dataframe#\n",
    "jeopardy_df = jeopardy_df[['round', 'value', 'category', 'answer', 'question', 'air_date', 'kids_jeopardy']].copy()\n",
    "\n",
    "#rename value column to point_value\n",
    "jeopardy_df['point_value']= jeopardy_df['value']\n",
    "jeopardy_df.head()"
   ]
  },
  {
   "cell_type": "code",
   "execution_count": null,
   "metadata": {},
   "outputs": [],
   "source": [
    "#connect to PostgreSQL#\n",
    "rds_connection_string = \"postgres:postgres@localhost:5432/customer_db\"\n",
    "engine = create_engine(f'postgresql://{rds_connection_string}')"
   ]
  },
  {
   "cell_type": "code",
   "execution_count": null,
   "metadata": {},
   "outputs": [],
   "source": [
    "#################AFTER TABLE CREATION IN POSTGRES###############################\n",
    "\n",
    "#check table names# \n",
    "engine.table_names()"
   ]
  },
  {
   "cell_type": "code",
   "execution_count": null,
   "metadata": {},
   "outputs": [],
   "source": [
    "#add data to PostgreSQL\n",
    "jeopardy_df.to_sql(name='jeopardy_table', con=engine, if_exists='append', index=False) "
   ]
  },
  {
   "cell_type": "code",
   "execution_count": null,
   "metadata": {},
   "outputs": [],
   "source": [
    "#Check data with a query\n",
    "pd.read_sql_query('select * from jeopardy_table', con=engine).head() "
   ]
  },
  {
   "cell_type": "code",
   "execution_count": null,
   "metadata": {},
   "outputs": [],
   "source": []
  }
 ],
 "metadata": {
  "kernelspec": {
   "display_name": "Python 3",
   "language": "python",
   "name": "python3"
  },
  "language_info": {
   "codemirror_mode": {
    "name": "ipython",
    "version": 3
   },
   "file_extension": ".py",
   "mimetype": "text/x-python",
   "name": "python",
   "nbconvert_exporter": "python",
   "pygments_lexer": "ipython3",
   "version": "3.7.4"
  }
 },
 "nbformat": 4,
 "nbformat_minor": 2
}
